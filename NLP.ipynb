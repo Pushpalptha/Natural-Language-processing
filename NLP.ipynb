{
  "cells": [
    {
      "cell_type": "markdown",
      "metadata": {
        "id": "view-in-github",
        "colab_type": "text"
      },
      "source": [
        "<a href=\"https://colab.research.google.com/github/Pushpalptha/Natural-Language-processing/blob/main/NLP.ipynb\" target=\"_parent\"><img src=\"https://colab.research.google.com/assets/colab-badge.svg\" alt=\"Open In Colab\"/></a>"
      ]
    },
    {
      "cell_type": "code",
      "execution_count": null,
      "metadata": {
        "colab": {
          "base_uri": "https://localhost:8080/"
        },
        "id": "x96LkT_3CeRH",
        "outputId": "826e1052-8d13-4b8f-908d-82f664bfaeef"
      },
      "outputs": [
        {
          "output_type": "stream",
          "name": "stdout",
          "text": [
            "Looking in indexes: https://pypi.org/simple, https://us-python.pkg.dev/colab-wheels/public/simple/\n",
            "Requirement already satisfied: nltk in /usr/local/lib/python3.9/dist-packages (3.8.1)\n",
            "Requirement already satisfied: regex>=2021.8.3 in /usr/local/lib/python3.9/dist-packages (from nltk) (2022.10.31)\n",
            "Requirement already satisfied: joblib in /usr/local/lib/python3.9/dist-packages (from nltk) (1.2.0)\n",
            "Requirement already satisfied: tqdm in /usr/local/lib/python3.9/dist-packages (from nltk) (4.65.0)\n",
            "Requirement already satisfied: click in /usr/local/lib/python3.9/dist-packages (from nltk) (8.1.3)\n"
          ]
        }
      ],
      "source": [
        "!pip install nltk"
      ]
    },
    {
      "cell_type": "code",
      "execution_count": null,
      "metadata": {
        "colab": {
          "base_uri": "https://localhost:8080/"
        },
        "id": "sv8ZfS9ZCk68",
        "outputId": "daf1aacd-8e94-47d0-af9e-514d60886082"
      },
      "outputs": [
        {
          "output_type": "stream",
          "name": "stderr",
          "text": [
            "[nltk_data] Downloading package punkt to /root/nltk_data...\n",
            "[nltk_data]   Unzipping tokenizers/punkt.zip.\n",
            "[nltk_data] Error loading averaged_perceptron_tragger: Package\n",
            "[nltk_data]     'averaged_perceptron_tragger' not found in index\n",
            "[nltk_data] Downloading package wordnet to /root/nltk_data...\n"
          ]
        },
        {
          "output_type": "execute_result",
          "data": {
            "text/plain": [
              "True"
            ]
          },
          "metadata": {},
          "execution_count": 2
        }
      ],
      "source": [
        "import nltk\n",
        "\n",
        "nltk.download('punkt')\n",
        "nltk.download ('averaged_perceptron_tragger')\n",
        "nltk.download('wordnet')"
      ]
    },
    {
      "cell_type": "code",
      "execution_count": null,
      "metadata": {
        "id": "qNbR8XrJDCe9"
      },
      "outputs": [],
      "source": [
        "from nltk.tokenize import word_tokenize\n",
        "\n",
        "text=\"This is the sample text for word analysis.\"\n",
        "tokens=word_tokenize(text)"
      ]
    },
    {
      "cell_type": "code",
      "execution_count": null,
      "metadata": {
        "colab": {
          "base_uri": "https://localhost:8080/"
        },
        "id": "BPoZuEu6DrVT",
        "outputId": "bf30e1e6-3967-42a1-bef8-2c3123d5f328"
      },
      "outputs": [
        {
          "output_type": "stream",
          "name": "stdout",
          "text": [
            "[('This', 'DT'), ('is', 'VBZ'), ('the', 'DT'), ('sample', 'JJ'), ('text', 'NN'), ('for', 'IN'), ('word', 'NN'), ('analysis', 'NN'), ('.', '.')]\n"
          ]
        }
      ],
      "source": [
        "\n",
        "from nltk.tag import pos_tag\n",
        "pos_tags= pos_tag(tokens)\n",
        "\n",
        "print(pos_tags)"
      ]
    },
    {
      "cell_type": "code",
      "execution_count": null,
      "metadata": {
        "colab": {
          "base_uri": "https://localhost:8080/"
        },
        "id": "K0OPZs-CE-_2",
        "outputId": "ca486955-6772-46b9-8e5b-658f134ce75a"
      },
      "outputs": [
        {
          "output_type": "stream",
          "name": "stderr",
          "text": [
            "[nltk_data] Downloading package averaged_perceptron_tagger to\n",
            "[nltk_data]     /root/nltk_data...\n",
            "[nltk_data]   Unzipping taggers/averaged_perceptron_tagger.zip.\n"
          ]
        },
        {
          "output_type": "execute_result",
          "data": {
            "text/plain": [
              "True"
            ]
          },
          "metadata": {},
          "execution_count": 6
        }
      ],
      "source": [
        "import nltk\n",
        "nltk.download('averaged_perceptron_tagger')\n"
      ]
    },
    {
      "cell_type": "code",
      "execution_count": null,
      "metadata": {
        "colab": {
          "base_uri": "https://localhost:8080/"
        },
        "id": "VkQIANpKFN9R",
        "outputId": "cebe08c3-5d3b-40de-8c83-dd51d2799ca4"
      },
      "outputs": [
        {
          "output_type": "stream",
          "name": "stdout",
          "text": [
            "['This', 'is', 'the', 'sample', 'text', 'for', 'word', 'analysis', '.']\n"
          ]
        }
      ],
      "source": [
        "from nltk.stem import WordNetLemmatizer\n",
        "\n",
        "lemmatizer=WordNetLemmatizer()\n",
        "lemmas=[lemmatizer.lemmatize(token) for token in tokens]\n",
        "print(lemmas)"
      ]
    },
    {
      "cell_type": "code",
      "execution_count": null,
      "metadata": {
        "colab": {
          "base_uri": "https://localhost:8080/"
        },
        "id": "Yj_tNWNXF8Ao",
        "outputId": "1d23ee45-7b06-470d-a76a-360e80cc864d"
      },
      "outputs": [
        {
          "output_type": "stream",
          "name": "stderr",
          "text": [
            "[nltk_data] Downloading package omw-1.4 to /root/nltk_data...\n"
          ]
        },
        {
          "output_type": "execute_result",
          "data": {
            "text/plain": [
              "True"
            ]
          },
          "metadata": {},
          "execution_count": 8
        }
      ],
      "source": [
        "import nltk\n",
        "nltk.download('omw-1.4')\n"
      ]
    },
    {
      "cell_type": "markdown",
      "metadata": {
        "id": "QnupLOJMRjZm"
      },
      "source": [
        "LAB-2 WORD GENERATION\n"
      ]
    },
    {
      "cell_type": "code",
      "execution_count": null,
      "metadata": {
        "id": "Pr-PsdzuGDeE",
        "colab": {
          "base_uri": "https://localhost:8080/"
        },
        "outputId": "449d5475-b293-4434-8f28-953c3a392870"
      },
      "outputs": [
        {
          "output_type": "stream",
          "name": "stdout",
          "text": [
            "The lazy dog, peeved to be left out, decides to jump over\n"
          ]
        }
      ],
      "source": [
        "import random\n",
        "text = \"The quick brown fox jumps over the lazy dog. The lazy dog, peeved to be left out, decides to jump over him.\"\n",
        "tokens = text.split()\n",
        "word_pairs = {}\n",
        "for i in range(len(tokens) - 2):\n",
        "    pair = (tokens[i], tokens[i+1])\n",
        "    follower = tokens[i+2]\n",
        "    if pair not in word_pairs:\n",
        "        word_pairs[pair] = []\n",
        "    word_pairs[pair].append(follower)\n",
        "start_pair = random.choice(list(word_pairs.keys()))\n",
        "sentence = list(start_pair)\n",
        "for i in range(10):\n",
        "    next_word = random.choice(word_pairs[start_pair])\n",
        "    sentence.append(next_word)\n",
        "    start_pair = (start_pair[1], next_word)\n",
        "generated_text = ' '.join(sentence)\n",
        "print(generated_text)\n"
      ]
    },
    {
      "cell_type": "markdown",
      "source": [
        "Morphology"
      ],
      "metadata": {
        "id": "cvsYiE-UkMt9"
      }
    },
    {
      "cell_type": "code",
      "source": [
        "import re\n",
        "from nltk.stem import PorterStemmer"
      ],
      "metadata": {
        "id": "12EyIU9wj1Bt"
      },
      "execution_count": null,
      "outputs": []
    },
    {
      "cell_type": "code",
      "execution_count": null,
      "metadata": {
        "id": "9m9hRZX4TdjE"
      },
      "outputs": [],
      "source": [
        "add_delete_table={\n",
        "    'bake':['baker','baking','bakes'],\n",
        "    'jumps':['jumped','jumping','juymps'],\n",
        "    'run':['ran','running','runs'],\n",
        "}"
      ]
    },
    {
      "cell_type": "code",
      "source": [
        "def apply_morphology(word):\n",
        "  stemmer=PorterStemmer()\n",
        "  base_word=stemmer.stem(word)\n",
        "  if base_word in add_delete_table:\n",
        "    generated_words=[]\n",
        "    for morph in add_delete_table[base_word]:\n",
        "      pattern=re.compile(re.escape(base_word)+'$')\n",
        "      new_word=pattern.sub(morph,word)\n",
        "      generated_words.append(new_word)\n",
        "    return generated_words\n",
        "  else:\n",
        "    return[word]\n",
        "generated_words=apply_morphology('bake')\n",
        "print(generated_words)"
      ],
      "metadata": {
        "colab": {
          "base_uri": "https://localhost:8080/"
        },
        "id": "9NlmMB5Nj30W",
        "outputId": "13c4f9c3-9095-4eb0-c80e-6ada121cfc84"
      },
      "execution_count": null,
      "outputs": [
        {
          "output_type": "stream",
          "name": "stdout",
          "text": [
            "['baker', 'baking', 'bakes']\n"
          ]
        }
      ]
    },
    {
      "cell_type": "code",
      "source": [],
      "metadata": {
        "id": "kEwN7mbij3w5"
      },
      "execution_count": null,
      "outputs": []
    },
    {
      "cell_type": "code",
      "source": [],
      "metadata": {
        "id": "BPjkkfk_j3s6"
      },
      "execution_count": null,
      "outputs": []
    }
  ],
  "metadata": {
    "colab": {
      "provenance": [],
      "authorship_tag": "ABX9TyN1uoeZsxByZ6EpVQd2KToR",
      "include_colab_link": true
    },
    "kernelspec": {
      "display_name": "Python 3",
      "name": "python3"
    },
    "language_info": {
      "name": "python"
    }
  },
  "nbformat": 4,
  "nbformat_minor": 0
}